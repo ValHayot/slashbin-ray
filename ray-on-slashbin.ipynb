{
 "cells": [
  {
   "cell_type": "markdown",
   "id": "a2b32e01-50bc-41d1-bc6d-787026cb9eae",
   "metadata": {},
   "source": [
    "# Distributing ScikitLearn applications on the Slashbin cluster using Ray"
   ]
  },
  {
   "cell_type": "markdown",
   "id": "0c6de5f6-ee77-4604-b92e-7998b09aebc7",
   "metadata": {},
   "source": [
    "## Installation"
   ]
  },
  {
   "cell_type": "markdown",
   "id": "af468dd2-4cff-4a77-bb48-1f88490500cd",
   "metadata": {},
   "source": [
    "### Install Ray"
   ]
  },
  {
   "cell_type": "code",
   "execution_count": 1,
   "id": "ad896728-5db3-4f1e-8e38-e6682377fc0a",
   "metadata": {},
   "outputs": [
    {
     "name": "stdout",
     "output_type": "stream",
     "text": [
      "Requirement already satisfied: ray[default] in ./venv/lib/python3.8/site-packages (1.9.2)\n",
      "Requirement already satisfied: click>=7.0 in ./venv/lib/python3.8/site-packages (from ray[default]) (8.0.3)\n",
      "Requirement already satisfied: pyyaml in ./venv/lib/python3.8/site-packages (from ray[default]) (6.0)\n",
      "Requirement already satisfied: numpy>=1.16 in ./venv/lib/python3.8/site-packages (from ray[default]) (1.22.1)\n",
      "Requirement already satisfied: attrs in ./venv/lib/python3.8/site-packages (from ray[default]) (21.4.0)\n",
      "Requirement already satisfied: grpcio>=1.28.1 in ./venv/lib/python3.8/site-packages (from ray[default]) (1.43.0)\n",
      "Requirement already satisfied: protobuf>=3.15.3 in ./venv/lib/python3.8/site-packages (from ray[default]) (3.19.3)\n",
      "Requirement already satisfied: msgpack<2.0.0,>=1.0.0 in ./venv/lib/python3.8/site-packages (from ray[default]) (1.0.3)\n",
      "Requirement already satisfied: jsonschema in ./venv/lib/python3.8/site-packages (from ray[default]) (4.4.0)\n",
      "Requirement already satisfied: filelock in ./venv/lib/python3.8/site-packages (from ray[default]) (3.4.2)\n",
      "Requirement already satisfied: redis>=3.5.0 in ./venv/lib/python3.8/site-packages (from ray[default]) (4.1.1)\n",
      "Requirement already satisfied: colorful in ./venv/lib/python3.8/site-packages (from ray[default]) (0.5.4)\n",
      "Requirement already satisfied: py-spy>=0.2.0 in ./venv/lib/python3.8/site-packages (from ray[default]) (0.3.11)\n",
      "Requirement already satisfied: aiohttp-cors in ./venv/lib/python3.8/site-packages (from ray[default]) (0.7.0)\n",
      "Requirement already satisfied: aiosignal in ./venv/lib/python3.8/site-packages (from ray[default]) (1.2.0)\n",
      "Requirement already satisfied: frozenlist in ./venv/lib/python3.8/site-packages (from ray[default]) (1.3.0)\n",
      "Requirement already satisfied: opencensus in ./venv/lib/python3.8/site-packages (from ray[default]) (0.8.0)\n",
      "Requirement already satisfied: gpustat>=1.0.0b1 in ./venv/lib/python3.8/site-packages (from ray[default]) (1.0.0b1)\n",
      "Requirement already satisfied: prometheus-client>=0.7.1 in ./venv/lib/python3.8/site-packages (from ray[default]) (0.12.0)\n",
      "Requirement already satisfied: aioredis<2 in ./venv/lib/python3.8/site-packages (from ray[default]) (1.3.1)\n",
      "Requirement already satisfied: requests in ./venv/lib/python3.8/site-packages (from ray[default]) (2.27.1)\n",
      "Requirement already satisfied: aiohttp>=3.7 in ./venv/lib/python3.8/site-packages (from ray[default]) (3.8.1)\n",
      "Requirement already satisfied: smart-open in ./venv/lib/python3.8/site-packages (from ray[default]) (5.2.1)\n",
      "Requirement already satisfied: yarl<2.0,>=1.0 in ./venv/lib/python3.8/site-packages (from aiohttp>=3.7->ray[default]) (1.7.2)\n",
      "Requirement already satisfied: multidict<7.0,>=4.5 in ./venv/lib/python3.8/site-packages (from aiohttp>=3.7->ray[default]) (5.2.0)\n",
      "Requirement already satisfied: async-timeout<5.0,>=4.0.0a3 in ./venv/lib/python3.8/site-packages (from aiohttp>=3.7->ray[default]) (4.0.2)\n",
      "Requirement already satisfied: charset-normalizer<3.0,>=2.0 in ./venv/lib/python3.8/site-packages (from aiohttp>=3.7->ray[default]) (2.0.10)\n",
      "Requirement already satisfied: hiredis in ./venv/lib/python3.8/site-packages (from aioredis<2->ray[default]) (2.0.0)\n",
      "Requirement already satisfied: six>=1.7 in ./venv/lib/python3.8/site-packages (from gpustat>=1.0.0b1->ray[default]) (1.16.0)\n",
      "Requirement already satisfied: nvidia-ml-py3>=7.352.0 in ./venv/lib/python3.8/site-packages (from gpustat>=1.0.0b1->ray[default]) (7.352.0)\n",
      "Requirement already satisfied: psutil in ./venv/lib/python3.8/site-packages (from gpustat>=1.0.0b1->ray[default]) (5.9.0)\n",
      "Requirement already satisfied: blessed>=1.17.1 in ./venv/lib/python3.8/site-packages (from gpustat>=1.0.0b1->ray[default]) (1.19.0)\n",
      "Requirement already satisfied: packaging>=20.4 in ./venv/lib/python3.8/site-packages (from redis>=3.5.0->ray[default]) (21.3)\n",
      "Requirement already satisfied: deprecated>=1.2.3 in ./venv/lib/python3.8/site-packages (from redis>=3.5.0->ray[default]) (1.2.13)\n",
      "Requirement already satisfied: pyrsistent!=0.17.0,!=0.17.1,!=0.17.2,>=0.14.0 in ./venv/lib/python3.8/site-packages (from jsonschema->ray[default]) (0.18.1)\n",
      "Requirement already satisfied: importlib-resources>=1.4.0 in ./venv/lib/python3.8/site-packages (from jsonschema->ray[default]) (5.4.0)\n",
      "Requirement already satisfied: opencensus-context==0.1.2 in ./venv/lib/python3.8/site-packages (from opencensus->ray[default]) (0.1.2)\n",
      "Requirement already satisfied: google-api-core<3.0.0,>=1.0.0 in ./venv/lib/python3.8/site-packages (from opencensus->ray[default]) (2.4.0)\n",
      "Requirement already satisfied: idna<4,>=2.5 in ./venv/lib/python3.8/site-packages (from requests->ray[default]) (3.3)\n",
      "Requirement already satisfied: certifi>=2017.4.17 in ./venv/lib/python3.8/site-packages (from requests->ray[default]) (2021.10.8)\n",
      "Requirement already satisfied: urllib3<1.27,>=1.21.1 in ./venv/lib/python3.8/site-packages (from requests->ray[default]) (1.26.8)\n",
      "Requirement already satisfied: wcwidth>=0.1.4 in ./venv/lib/python3.8/site-packages (from blessed>=1.17.1->gpustat>=1.0.0b1->ray[default]) (0.2.5)\n",
      "Requirement already satisfied: wrapt<2,>=1.10 in ./venv/lib/python3.8/site-packages (from deprecated>=1.2.3->redis>=3.5.0->ray[default]) (1.13.3)\n",
      "Requirement already satisfied: setuptools>=40.3.0 in ./venv/lib/python3.8/site-packages (from google-api-core<3.0.0,>=1.0.0->opencensus->ray[default]) (41.6.0)\n",
      "Requirement already satisfied: google-auth<3.0dev,>=1.25.0 in ./venv/lib/python3.8/site-packages (from google-api-core<3.0.0,>=1.0.0->opencensus->ray[default]) (2.3.3)\n",
      "Requirement already satisfied: googleapis-common-protos<2.0dev,>=1.52.0 in ./venv/lib/python3.8/site-packages (from google-api-core<3.0.0,>=1.0.0->opencensus->ray[default]) (1.54.0)\n",
      "Requirement already satisfied: zipp>=3.1.0 in ./venv/lib/python3.8/site-packages (from importlib-resources>=1.4.0->jsonschema->ray[default]) (3.7.0)\n",
      "Requirement already satisfied: pyparsing!=3.0.5,>=2.0.2 in ./venv/lib/python3.8/site-packages (from packaging>=20.4->redis>=3.5.0->ray[default]) (3.0.6)\n",
      "Requirement already satisfied: pyasn1-modules>=0.2.1 in ./venv/lib/python3.8/site-packages (from google-auth<3.0dev,>=1.25.0->google-api-core<3.0.0,>=1.0.0->opencensus->ray[default]) (0.2.8)\n",
      "Requirement already satisfied: rsa<5,>=3.1.4 in ./venv/lib/python3.8/site-packages (from google-auth<3.0dev,>=1.25.0->google-api-core<3.0.0,>=1.0.0->opencensus->ray[default]) (4.8)\n",
      "Requirement already satisfied: cachetools<5.0,>=2.0.0 in ./venv/lib/python3.8/site-packages (from google-auth<3.0dev,>=1.25.0->google-api-core<3.0.0,>=1.0.0->opencensus->ray[default]) (4.2.4)\n",
      "Requirement already satisfied: pyasn1<0.5.0,>=0.4.6 in ./venv/lib/python3.8/site-packages (from pyasn1-modules>=0.2.1->google-auth<3.0dev,>=1.25.0->google-api-core<3.0.0,>=1.0.0->opencensus->ray[default]) (0.4.8)\n",
      "Note: you may need to restart the kernel to use updated packages.\n"
     ]
    }
   ],
   "source": [
    "pip install \"ray[default]\""
   ]
  },
  {
   "cell_type": "markdown",
   "id": "53953927-d242-448f-bf2a-83791af40290",
   "metadata": {},
   "source": [
    "### Installing NERSC's slurm-magic to interact with SLURM on Jupyter"
   ]
  },
  {
   "cell_type": "code",
   "execution_count": 2,
   "id": "f0346eeb-8f46-483d-ad2b-74d9537ec2e9",
   "metadata": {},
   "outputs": [
    {
     "name": "stdout",
     "output_type": "stream",
     "text": [
      "Collecting git+https://github.com/NERSC/slurm-magic.git\n",
      "  Cloning https://github.com/NERSC/slurm-magic.git to /tmp/pip-req-build-aklmtzix\n",
      "  Running command git clone --filter=blob:none -q https://github.com/NERSC/slurm-magic.git /tmp/pip-req-build-aklmtzix\n",
      "  Resolved https://github.com/NERSC/slurm-magic.git to commit 4c708cc137cb9f4bd5b44cf26837b466d9bf7b65\n",
      "  Preparing metadata (setup.py) ... \u001b[?25ldone\n",
      "\u001b[?25hRequirement already satisfied: pandas in ./venv/lib/python3.8/site-packages (1.3.5)\n",
      "Requirement already satisfied: numpy>=1.17.3 in ./venv/lib/python3.8/site-packages (from pandas) (1.22.1)\n",
      "Requirement already satisfied: python-dateutil>=2.7.3 in ./venv/lib/python3.8/site-packages (from pandas) (2.8.2)\n",
      "Requirement already satisfied: pytz>=2017.3 in ./venv/lib/python3.8/site-packages (from pandas) (2021.3)\n",
      "Requirement already satisfied: six>=1.5 in ./venv/lib/python3.8/site-packages (from python-dateutil>=2.7.3->pandas) (1.16.0)\n",
      "Note: you may need to restart the kernel to use updated packages.\n"
     ]
    }
   ],
   "source": [
    "pip install git+https://github.com/NERSC/slurm-magic.git pandas"
   ]
  },
  {
   "cell_type": "code",
   "execution_count": 3,
   "id": "a2f854a8-9721-4922-bb28-690e18b170fe",
   "metadata": {},
   "outputs": [],
   "source": [
    "load_ext slurm_magic"
   ]
  },
  {
   "cell_type": "markdown",
   "id": "4e91c78d-b943-4e2d-9e54-805c9812908f",
   "metadata": {},
   "source": [
    "### Installing Example requirements"
   ]
  },
  {
   "cell_type": "code",
   "execution_count": 4,
   "id": "6f3ec4e5-a22e-43b6-b45c-8484e5c75496",
   "metadata": {},
   "outputs": [
    {
     "name": "stdout",
     "output_type": "stream",
     "text": [
      "Requirement already satisfied: scikit-learn in ./venv/lib/python3.8/site-packages (1.0.2)\n",
      "Requirement already satisfied: numpy in ./venv/lib/python3.8/site-packages (1.22.1)\n",
      "Requirement already satisfied: joblib in ./venv/lib/python3.8/site-packages (1.1.0)\n",
      "Requirement already satisfied: scipy>=1.1.0 in ./venv/lib/python3.8/site-packages (from scikit-learn) (1.7.3)\n",
      "Requirement already satisfied: threadpoolctl>=2.0.0 in ./venv/lib/python3.8/site-packages (from scikit-learn) (3.0.0)\n",
      "Note: you may need to restart the kernel to use updated packages.\n"
     ]
    }
   ],
   "source": [
    "pip install scikit-learn numpy joblib"
   ]
  },
  {
   "cell_type": "markdown",
   "id": "4019ad4f-db08-472f-8203-354f2ec71aae",
   "metadata": {},
   "source": [
    "## Creating our first Scikit-learn script with Ray backend\n",
    "(taken from [Ray documentation](https://docs.ray.io/en/latest/joblib.html))"
   ]
  },
  {
   "cell_type": "code",
   "execution_count": 5,
   "id": "92cb4e32-c8b4-42a4-808b-f217ebdc4d9f",
   "metadata": {},
   "outputs": [
    {
     "name": "stdout",
     "output_type": "stream",
     "text": [
      "Overwriting sklearn_ray.py\n"
     ]
    }
   ],
   "source": [
    "%%writefile sklearn_ray.py\n",
    "import numpy as np\n",
    "from sklearn.datasets import load_digits\n",
    "from sklearn.model_selection import RandomizedSearchCV\n",
    "from sklearn.svm import SVC\n",
    "\n",
    "digits = load_digits()\n",
    "param_space = {\n",
    "    'C': np.logspace(-6, 6, 30),\n",
    "    'gamma': np.logspace(-8, 8, 30),\n",
    "    'tol': np.logspace(-4, -1, 30),\n",
    "    'class_weight': [None, 'balanced'],\n",
    "}\n",
    "model = SVC(kernel='rbf')\n",
    "search = RandomizedSearchCV(model, param_space, cv=5, n_iter=300, verbose=10)\n",
    "\n",
    "import os\n",
    "import ray\n",
    "import joblib\n",
    "from ray.util.joblib import register_ray\n",
    "\n",
    "ray.init(address=os.environ[\"ip_head\"])\n",
    "register_ray()\n",
    "\n",
    "with joblib.parallel_backend('ray'):\n",
    "    search.fit(digits.data, digits.target)"
   ]
  },
  {
   "cell_type": "markdown",
   "id": "9d0de6ff-a94b-4747-907b-3f797d35d829",
   "metadata": {},
   "source": [
    "## Launching Ray with SBATCH\n",
    "\n",
    "Since starting a SLURM interactive job in Jupyter is more or less equivalent to running an SBATCH script in Jupyter, we will be using SBATCH. If you start Jupyter within the SLURM allocation, then the steps presented here can be executed interactively.\n",
    "\n",
    "The below SBATCH script will need to be modified according to your needs. The following script runs the sklearn_ray.py (created in the previous step) and will execute on the cluster as is."
   ]
  },
  {
   "cell_type": "code",
   "execution_count": 6,
   "id": "9be08660-5392-447f-a222-015c386d1141",
   "metadata": {},
   "outputs": [
    {
     "data": {
      "text/plain": [
       "'Submitted batch job 18821\\n'"
      ]
     },
     "execution_count": 6,
     "metadata": {},
     "output_type": "execute_result"
    }
   ],
   "source": [
    "%%sbatch --output ray_example.out\n",
    "#!/bin/bash                                                                                                                                  \n",
    "#SBATCH --mem=230G\n",
    "#SBATCH --cpus-per-task=64                                                       \n",
    "#SBATCH --tasks-per-node=1\n",
    "#SBATCH --nodes=8\n",
    "\n",
    "# source venv. **THIS WILL NEED TO BE CHANGED TO YOUR VENVS NAME**\n",
    "source venv/bin/activate\n",
    "\n",
    "## The following is taken directly from the Ray docs (unmodified) https://docs.ray.io/en/latest/cluster/slurm.html\n",
    "## Get the HEAD IP\n",
    "# Getting the node names\n",
    "nodes=$(scontrol show hostnames \"$SLURM_JOB_NODELIST\")\n",
    "nodes_array=($nodes)\n",
    "\n",
    "head_node=${nodes_array[0]}\n",
    "head_node_ip=$(srun --nodes=1 --ntasks=1 -w \"$head_node\" hostname --ip-address)\n",
    "\n",
    "# if we detect a space character in the head node IP, we'll\n",
    "# convert it to an ipv4 address. This step is optional.\n",
    "if [[ \"$head_node_ip\" == *\" \"* ]]; then\n",
    "IFS=' ' read -ra ADDR <<<\"$head_node_ip\"\n",
    "if [[ ${#ADDR[0]} -gt 16 ]]; then\n",
    "  head_node_ip=${ADDR[1]}\n",
    "else\n",
    "  head_node_ip=${ADDR[0]}\n",
    "fi\n",
    "echo \"IPV6 address detected. We split the IPV4 address as $head_node_ip\"\n",
    "fi\n",
    "\n",
    "## Starting the head node\n",
    "port=6379\n",
    "ip_head=$head_node_ip:$port\n",
    "export ip_head\n",
    "echo \"IP Head: $ip_head\"\n",
    "\n",
    "echo \"Starting HEAD at $head_node\"\n",
    "srun --nodes=1 --ntasks=1 -w \"$head_node\" \\\n",
    "    ray start --head --node-ip-address=\"$head_node_ip\" --port=$port \\\n",
    "    --num-cpus \"${SLURM_CPUS_PER_TASK}\" --include-dashboard True --dashboard-host \"$head_node_ip\" --block &\n",
    "    \n",
    "## Starting the workers\n",
    "# optional, though may be useful in certain versions of Ray < 1.0.\n",
    "sleep 10\n",
    "\n",
    "# number of nodes other than the head node\n",
    "worker_num=$((SLURM_JOB_NUM_NODES - 1))\n",
    "\n",
    "for ((i = 1; i <= worker_num; i++)); do\n",
    "    node_i=${nodes_array[$i]}\n",
    "    echo \"Starting WORKER $i at $node_i\"\n",
    "    srun --nodes=1 --ntasks=1 -w \"$node_i\" \\\n",
    "        ray start --address \"$ip_head\" \\\n",
    "        --num-cpus \"${SLURM_CPUS_PER_TASK}\" --block &\n",
    "    sleep 5\n",
    "done\n",
    "\n",
    "### **Running sklearn_ray.py **\n",
    "    \n",
    "python -u sklearn_ray.py\n",
    "    "
   ]
  },
  {
   "cell_type": "markdown",
   "id": "1957c3f6-5f13-43d7-a348-a414db5cadb2",
   "metadata": {},
   "source": [
    "## Ray Dashboard\n",
    "\n",
    "The Dashboard is generated on the headnode. In our case, this would be on comp01. The default port used by Ray for the dashboard is 8265.\n",
    "To verify that this is accurate, we can check the log output of our SLURM job as the dashboard IP will be written in the first few lines\n",
    "\n",
    "Here we set the output filename to be `ray_example.out`. Normally slurm logfiles are by default formatted to be in the form `slurm_<jobid>.out`\n",
    "\n",
    "Opening the URL in a new browser window will load the dashboard."
   ]
  },
  {
   "cell_type": "code",
   "execution_count": 7,
   "id": "8e27b2b2-7f20-4315-b099-90b7bbe651cd",
   "metadata": {},
   "outputs": [
    {
     "name": "stdout",
     "output_type": "stream",
     "text": [
      "IP Head: 10.1.1.13:6379\n",
      "Starting HEAD at comp01\n",
      "2022-01-19 13:11:47,726\tINFO services.py:1338 -- View the Ray dashboard at \u001b[1m\u001b[32mhttp://10.1.1.13:8265\u001b[39m\u001b[22m\n",
      "2022-01-19 13:11:45,082\tINFO scripts.py:612 -- Local node IP: 10.1.1.13\n",
      "2022-01-19 13:11:47,865\tSUCC scripts.py:651 -- --------------------\n",
      "2022-01-19 13:11:47,865\tSUCC scripts.py:652 -- Ray runtime started.\n",
      "2022-01-19 13:11:47,866\tSUCC scripts.py:653 -- --------------------\n",
      "2022-01-19 13:11:47,866\tINFO scripts.py:655 -- Next steps\n",
      "2022-01-19 13:11:47,866\tINFO scripts.py:656 -- To connect to this Ray runtime from another node, run\n",
      "2022-01-19 13:11:47,866\tINFO scripts.py:660 --   ray start --address='10.1.1.13:6379' --redis-password='5241590000000000'\n",
      "2022-01-19 13:11:47,866\tINFO scripts.py:665 -- Alternatively, use the following Python code:\n",
      "2022-01-19 13:11:47,867\tINFO scripts.py:668 -- import ray\n",
      "2022-01-19 13:11:47,867\tINFO scripts.py:669 -- ray.init(address='auto', _redis_password='5241590000000000')\n",
      "2022-01-19 13:11:47,867\tINFO scripts.py:677 -- To connect to this Ray runtime from outside of the cluster, for example to\n",
      "2022-01-19 13:11:47,867\tINFO scripts.py:679 -- connect to a remote cluster from your laptop directly, use the following\n",
      "2022-01-19 13:11:47,868\tINFO scripts.py:681 -- Python code:\n",
      "2022-01-19 13:11:47,868\tINFO scripts.py:684 -- import ray\n",
      "2022-01-19 13:11:47,869\tINFO scripts.py:685 -- ray.init(address='ray://<head_node_ip_address>:10001')\n",
      "2022-01-19 13:11:47,869\tINFO scripts.py:691 -- If connection fails, check your firewall settings and network configuration.\n",
      "2022-01-19 13:11:47,869\tINFO scripts.py:696 -- To terminate the Ray runtime, run\n",
      "2022-01-19 13:11:47,869\tINFO scripts.py:697 --   ray stop\n",
      "2022-01-19 13:11:47,869\tINFO scripts.py:765 -- --block\n",
      "2022-01-19 13:11:47,869\tINFO scripts.py:766 -- This command will now block until terminated by a signal.\n",
      "2022-01-19 13:11:47,869\tINFO scripts.py:768 -- Running subprocesses are monitored and a message will be printed if any of them terminate unexpectedly.\n"
     ]
    }
   ],
   "source": [
    "%%bash \n",
    "sleep 15\n",
    "cat ray_example.out"
   ]
  }
 ],
 "metadata": {
  "kernelspec": {
   "display_name": "Python 3 (ipykernel)",
   "language": "python",
   "name": "python3"
  },
  "language_info": {
   "codemirror_mode": {
    "name": "ipython",
    "version": 3
   },
   "file_extension": ".py",
   "mimetype": "text/x-python",
   "name": "python",
   "nbconvert_exporter": "python",
   "pygments_lexer": "ipython3",
   "version": "3.8.8"
  }
 },
 "nbformat": 4,
 "nbformat_minor": 5
}
